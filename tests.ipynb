{
 "cells": [
  {
   "cell_type": "code",
   "execution_count": 1,
   "metadata": {},
   "outputs": [],
   "source": [
    "from questions_parser import generate_cards_from_file\n",
    "\n",
    "# cards = generate_cards_from_file('questions_mc.yaml')\n",
    "# print(len(cards))\n",
    "# print('\\n'.join([f'{c.key:<4}: {c.text} {c.options[c.correct] if c.correct is  not None else \"banana\"}' for c in cards]))"
   ]
  },
  {
   "cell_type": "code",
   "execution_count": 4,
   "metadata": {},
   "outputs": [
    {
     "name": "stdout",
     "output_type": "stream",
     "text": [
      "questions_mc   :480\n",
      "questions_tf   :409\n",
      "questions_enum :145\n"
     ]
    }
   ],
   "source": [
    "questions_files = ['questions_mc', 'questions_tf', 'questions_enum']\n",
    "for f in questions_files:\n",
    "    cards = generate_cards_from_file(f'questions/{f}.yaml')\n",
    "    print(f'{f:<15}:{len(cards)}')\n"
   ]
  },
  {
   "cell_type": "code",
   "execution_count": null,
   "metadata": {},
   "outputs": [],
   "source": []
  }
 ],
 "metadata": {
  "kernelspec": {
   "display_name": ".venv",
   "language": "python",
   "name": "python3"
  },
  "language_info": {
   "codemirror_mode": {
    "name": "ipython",
    "version": 3
   },
   "file_extension": ".py",
   "mimetype": "text/x-python",
   "name": "python",
   "nbconvert_exporter": "python",
   "pygments_lexer": "ipython3",
   "version": "3.12.7"
  }
 },
 "nbformat": 4,
 "nbformat_minor": 2
}
