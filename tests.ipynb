{
 "cells": [
  {
   "cell_type": "code",
   "execution_count": 1,
   "metadata": {},
   "outputs": [],
   "source": [
    "from questions_parser import generate_cards_from_file\n",
    "\n",
    "# cards = generate_cards_from_file('questions_mc.yaml')\n",
    "# print(len(cards))\n",
    "# print('\\n'.join([f'{c.key:<4}: {c.text} {c.options[c.correct] if c.correct is  not None else \"banana\"}' for c in cards]))"
   ]
  },
  {
   "cell_type": "code",
   "execution_count": 20,
   "metadata": {},
   "outputs": [
    {
     "name": "stdout",
     "output_type": "stream",
     "text": [
      "questions_mc   : 478\n",
      "questions_mc   : 224 (diff 1)\n",
      "questions_mc   : 254 (diff 3)\n",
      "\n",
      "questions_tf   : 409\n",
      "questions_tf   : 195 (diff 1)\n",
      "questions_tf   : 214 (diff 3)\n",
      "\n",
      "questions_enum : 140\n",
      "questions_enum : 41 (diff 1)\n",
      "questions_enum : 99 (diff 3)\n",
      "\n"
     ]
    }
   ],
   "source": [
    "questions_files = ['questions_mc', 'questions_tf', 'questions_enum']\n",
    "for f in questions_files:\n",
    "    cards = generate_cards_from_file(f'questions/{f}.yaml')\n",
    "    tot = len(cards)\n",
    "    dif1 = len([c for c in cards if c.difficulty == 1])\n",
    "    dif3 = len([c for c in cards if c.difficulty == 3])\n",
    "    print(f'{f:<15}: {tot}')\n",
    "    print(f'{f:<15}: {dif1} (diff 1)')\n",
    "    print(f'{f:<15}: {dif3} (diff 3)')\n",
    "    assert dif1 + dif3 == tot\n",
    "    print()\n",
    "\n",
    "# print([x**2 if x > 4 else x-1 for x in [1,2,3,4,5,6,7,8][3:-1] if x > 1])"
   ]
  },
  {
   "cell_type": "code",
   "execution_count": null,
   "metadata": {},
   "outputs": [],
   "source": []
  }
 ],
 "metadata": {
  "kernelspec": {
   "display_name": ".venv",
   "language": "python",
   "name": "python3"
  },
  "language_info": {
   "codemirror_mode": {
    "name": "ipython",
    "version": 3
   },
   "file_extension": ".py",
   "mimetype": "text/x-python",
   "name": "python",
   "nbconvert_exporter": "python",
   "pygments_lexer": "ipython3",
   "version": "3.12.7"
  }
 },
 "nbformat": 4,
 "nbformat_minor": 2
}
